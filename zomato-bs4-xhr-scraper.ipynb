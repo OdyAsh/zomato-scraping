{
 "cells": [
  {
   "cell_type": "markdown",
   "metadata": {},
   "source": [
    "# Job Requirements"
   ]
  },
  {
   "cell_type": "code",
   "execution_count": null,
   "metadata": {},
   "outputs": [],
   "source": []
  },
  {
   "cell_type": "markdown",
   "metadata": {},
   "source": [
    "# Imports, Global Variables & Utility Functions"
   ]
  },
  {
   "cell_type": "code",
   "execution_count": 4,
   "metadata": {},
   "outputs": [],
   "source": [
    "# built-in packages\n",
    "import os\n",
    "import pickle\n",
    "import time\n",
    "from pprint import pprint\n",
    "from typing import List, Dict, Tuple, Union, Optional, Any \n",
    "import posixpath\n",
    "\n",
    "# note (source: phind.ai): we are not using urllib due its unpredictability. \n",
    "#       for example, if the base url doesn't have a trailing slash,\n",
    "#       urllib will not join the base url with the relative url correctly.\n",
    "#       Moreover, if the second url has a leading slash, urllib will ignore the base url.\n",
    "# from urllib.parse import urljoin, \n",
    "\n",
    "# pip-installed packages\n",
    "import requests\n",
    "from bs4 import BeautifulSoup\n",
    "import pandas as pd"
   ]
  },
  {
   "cell_type": "code",
   "execution_count": 5,
   "metadata": {},
   "outputs": [],
   "source": [
    "# global variables\n",
    "COUNTRIES = ['india', 'uae']\n",
    "BASE_OUTPUT_URL = 'outputs'\n",
    "EXCEL_DIR = 'excel_files'\n",
    "CSV_DIR = 'csv_files'\n",
    "\n",
    "# global constants\n",
    "BASE_URL = \"https://www.zomato.com/\""
   ]
  },
  {
   "cell_type": "code",
   "execution_count": null,
   "metadata": {},
   "outputs": [],
   "source": [
    "def save_df(df:pd.DataFrame, file_name_without_ext:str, to_excel:bool=True, to_csv:bool=True) -> None:\n",
    "    \"\"\"\n",
    "    Save a dataframe to excel and csv files.\n",
    "    \"\"\"\n",
    "    if to_excel:\n",
    "        df.to_excel(os.path.join(BASE_OUTPUT_URL, EXCEL_DIR, file_name_without_ext + '.xlsx'), index=False)\n",
    "    if to_csv:\n",
    "        df.to_csv(os.path.join(BASE_OUTPUT_URL, CSV_DIR, file_name_without_ext + '.csv'), index=False)"
   ]
  },
  {
   "cell_type": "code",
   "execution_count": 6,
   "metadata": {},
   "outputs": [],
   "source": [
    "def save_pkl(content_to_be_saved, path) -> None:\n",
    "    \"\"\"\n",
    "    Save the given content to a file using pickle serialization.\n",
    "\n",
    "    Args:\n",
    "        content_to_be_saved: Any serializable object.\n",
    "        path (str): The full path to the file where the data will be saved.\n",
    "\n",
    "    Example:\n",
    "        >>> save_pkl({'name': 'John', 'age': 30}, 'data.pkl')\n",
    "\n",
    "    Returns:\n",
    "        None\n",
    "\n",
    "    Notes:\n",
    "        \"path\" could either mean relative path or absolute path.\n",
    "    \"\"\"\n",
    "    with open(path, 'wb') as f:\n",
    "        pickle.dump(content_to_be_saved, f)\n",
    "\n",
    "def load_pkl(path:str) -> Union[bool, any]:\n",
    "    \"\"\"\n",
    "    Load data from a file using pickle deserialization.\n",
    "\n",
    "    Args:\n",
    "        path (str): The full path to the file to be loaded.\n",
    "\n",
    "    Example:\n",
    "        >>> loaded_data = load_pkl('data.pkl')\n",
    "\n",
    "    Returns:\n",
    "        The loaded content if the file exists, or False if the file does not exist.\n",
    "\n",
    "    Notes:\n",
    "        \"path\" could either mean relative path or absolute path.\n",
    "    \"\"\"\n",
    "    if not os.path.exists(path):\n",
    "        return False\n",
    "    with open(path, 'rb') as f:\n",
    "        content = pickle.load(f)\n",
    "    return content\n",
    "\n",
    "def force_load_pkl(path:str, dtype:str='dict') -> any:\n",
    "    \"\"\"\n",
    "    Load data from a file using pickle deserialization. If the file does not exist,\n",
    "    create an empty file and return an empty dictionary or list based on the specified data type.\n",
    "\n",
    "    Args:\n",
    "        path (str): The full path to the file to be loaded or created.\n",
    "        dtype (str, optional): The data type to create if the file does not exist ('dict' or 'list').\n",
    "\n",
    "    Example:\n",
    "        >>> loaded_data = force_load_pkl('data.pkl', dtype='dict')\n",
    "\n",
    "    Returns:\n",
    "        The loaded content if the file exists, or an empty dictionary or list if the file does not exist.\n",
    "\n",
    "    Notes:\n",
    "        \"path\" could either mean relative path or absolute path.\n",
    "    \"\"\"\n",
    "    try:\n",
    "        content = load_pkl(path)\n",
    "        return content\n",
    "    except Exception as e:\n",
    "        if dtype == 'list':\n",
    "            save_pkl([], path)\n",
    "            return []\n",
    "        else:\n",
    "            save_pkl({}, path)\n",
    "            return {}\n",
    "\n",
    "def join_paths(base_path:str, *relative_paths:str) -> str:\n",
    "    \"\"\"\n",
    "    Join two paths and normalize the result.\n",
    "\n",
    "    Args:\n",
    "        base_directory (str): The base directory path.\n",
    "        relative_path (str): The relative path to be joined.\n",
    "\n",
    "    Example:\n",
    "        >>> result = join_paths('/user/documents', 'files/myfile.txt')\n",
    "\n",
    "    Returns:\n",
    "        The normalized and joined path.\n",
    "\n",
    "    Notes:\n",
    "        More about naming standards for path components here: https://stackoverflow.com/a/2235762\n",
    "    \"\"\"\n",
    "    return os.path.normpath(os.path.join(base_directory, relative_path))\n",
    "\n",
    "def change_sep(path:str, new_sep:str, old_sep:str=os.path.sep) -> str:\n",
    "    \"\"\"\n",
    "    Change the path separator in a given path and normalize the result.\n",
    "\n",
    "    Args:\n",
    "        path (str): The input path.\n",
    "        new_sep (str): The new path separator to use.\n",
    "        old_sep (str, optional): The old path separator to replace (default is os.path.sep).\n",
    "\n",
    "    Example:\n",
    "        >>> result = change_sep('path/to/change', '/', '\\\\')\n",
    "\n",
    "    Returns:\n",
    "        The path with the new separator, normalized.\n",
    "\n",
    "    Notes:\n",
    "        Source 1: https://stackoverflow.com/questions/18707338/print-raw-string-from-variable-not-getting-the-answers#:~:text=To%20turn%20a%20variable%20to%20raw%20str%2C%20just%20use\n",
    "        Source 2: https://mail.python.org/pipermail/tutor/2011-July/084788.html\n",
    "    \"\"\"\n",
    "    return os.path.normpath(rf\"{path}\").replace(old_sep, new_sep)\n"
   ]
  },
  {
   "cell_type": "markdown",
   "metadata": {},
   "source": [
    "# Main Functions"
   ]
  },
  {
   "cell_type": "code",
   "execution_count": null,
   "metadata": {},
   "outputs": [],
   "source": []
  },
  {
   "cell_type": "markdown",
   "metadata": {},
   "source": [
    "# Main Code"
   ]
  },
  {
   "cell_type": "code",
   "execution_count": null,
   "metadata": {},
   "outputs": [],
   "source": [
    "for country in COUNTRIES:\n",
    "    # create the country directory\n",
    "    country_dir = join_paths('data', country)\n",
    "    if not os.path.exists(country_dir):\n",
    "        os.makedirs(country_dir)\n",
    "\n",
    "    # create the country url\n",
    "    country_url = posixpath.join(BASE_URL, country)\n",
    "    print(f\"Current Country URL: {country_url}\")"
   ]
  },
  {
   "cell_type": "markdown",
   "metadata": {},
   "source": [
    "# Visualizing Functions' Return Values"
   ]
  },
  {
   "cell_type": "code",
   "execution_count": null,
   "metadata": {},
   "outputs": [],
   "source": []
  }
 ],
 "metadata": {
  "kernelspec": {
   "display_name": "Python 3",
   "language": "python",
   "name": "python3"
  },
  "language_info": {
   "codemirror_mode": {
    "name": "ipython",
    "version": 3
   },
   "file_extension": ".py",
   "mimetype": "text/x-python",
   "name": "python",
   "nbconvert_exporter": "python",
   "pygments_lexer": "ipython3",
   "version": "3.9.18"
  },
  "orig_nbformat": 4
 },
 "nbformat": 4,
 "nbformat_minor": 2
}
