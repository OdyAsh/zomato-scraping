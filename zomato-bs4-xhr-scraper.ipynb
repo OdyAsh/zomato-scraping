{
 "cells": [
  {
   "cell_type": "markdown",
   "metadata": {},
   "source": [
    "# Job Requirements"
   ]
  },
  {
   "cell_type": "code",
   "execution_count": null,
   "metadata": {},
   "outputs": [],
   "source": []
  },
  {
   "cell_type": "markdown",
   "metadata": {},
   "source": [
    "# Imports, Global Variables & Utility Functions"
   ]
  },
  {
   "cell_type": "code",
   "execution_count": 137,
   "metadata": {},
   "outputs": [],
   "source": [
    "# built-in packages\n",
    "import os\n",
    "import pickle\n",
    "import time\n",
    "from pprint import pprint\n",
    "from typing import List, Dict, Tuple, Union, Optional, Any \n",
    "import posixpath\n",
    "import json\n",
    "import regex as re\n",
    "\n",
    "# note (source: phind.ai): we are not using urllib due its unpredictability. \n",
    "#       for example, if the base url doesn't have a trailing slash,\n",
    "#       urllib will not join the base url with the rel\\ative url correctly.\n",
    "#       Moreover, if the second url has a leading slash, urllib will ignore the base url.\n",
    "# from urllib.parse import urljoin, \n",
    "\n",
    "# pip-installed packages\n",
    "import requests\n",
    "from bs4 import BeautifulSoup\n",
    "import pandas as pd\n",
    "from benedict import benedict"
   ]
  },
  {
   "cell_type": "code",
   "execution_count": 117,
   "metadata": {},
   "outputs": [],
   "source": [
    "# global variables\n",
    "COUNTRIES = ['india', 'uae']\n",
    "BASE_OUTPUT_URL = 'outputs'\n",
    "EXCEL_DIR = 'excel_files'\n",
    "CSV_DIR = 'csv_files'\n",
    "\n",
    "# global constants\n",
    "BASE_URL = \"https://www.zomato.com/\""
   ]
  },
  {
   "cell_type": "code",
   "execution_count": 118,
   "metadata": {},
   "outputs": [],
   "source": [
    "def save_pkl(content_to_be_saved, path) -> None:\n",
    "    \"\"\"\n",
    "    Save the given content to a file using pickle serialization.\n",
    "\n",
    "    Args:\n",
    "        content_to_be_saved: Any serializable object.\n",
    "        path (str): The full path to the file where the data will be saved.\n",
    "\n",
    "    Example:\n",
    "        >>> save_pkl({'name': 'John', 'age': 30}, 'data.pkl')\n",
    "\n",
    "    Returns:\n",
    "        None\n",
    "\n",
    "    Notes:\n",
    "        \"path\" could either mean relative path or absolute path.\n",
    "    \"\"\"\n",
    "    with open(path, 'wb') as f:\n",
    "        pickle.dump(content_to_be_saved, f)\n",
    "\n",
    "def load_pkl(path:str) -> Union[bool, any]:\n",
    "    \"\"\"\n",
    "    Load data from a file using pickle deserialization.\n",
    "\n",
    "    Args:\n",
    "        path (str): The full path to the file to be loaded.\n",
    "\n",
    "    Example:\n",
    "        >>> loaded_data = load_pkl('data.pkl')\n",
    "\n",
    "    Returns:\n",
    "        The loaded content if the file exists, or False if the file does not exist.\n",
    "\n",
    "    Notes:\n",
    "        \"path\" could either mean relative path or absolute path.\n",
    "    \"\"\"\n",
    "    if not os.path.exists(path):\n",
    "        return False\n",
    "    with open(path, 'rb') as f:\n",
    "        content = pickle.load(f)\n",
    "    return content\n",
    "\n",
    "def force_load_pkl(path:str, dtype:str='dict') -> any:\n",
    "    \"\"\"\n",
    "    Load data from a file using pickle deserialization. If the file does not exist,\n",
    "    create an empty file and return an empty dictionary or list based on the specified data type.\n",
    "\n",
    "    Args:\n",
    "        path (str): The full path to the file to be loaded or created.\n",
    "        dtype (str, optional): The data type to create if the file does not exist ('dict' or 'list').\n",
    "\n",
    "    Example:\n",
    "        >>> loaded_data = force_load_pkl('data.pkl', dtype='dict')\n",
    "\n",
    "    Returns:\n",
    "        The loaded content if the file exists, or an empty dictionary or list if the file does not exist.\n",
    "\n",
    "    Notes:\n",
    "        \"path\" could either mean relative path or absolute path.\n",
    "    \"\"\"\n",
    "    try:\n",
    "        content = load_pkl(path)\n",
    "        return content\n",
    "    except Exception as e:\n",
    "        if dtype == 'list':\n",
    "            save_pkl([], path)\n",
    "            return []\n",
    "        else:\n",
    "            save_pkl({}, path)\n",
    "            return {}\n",
    "\n",
    "def join_paths(base_path:str, *relative_paths:str) -> str:\n",
    "    \"\"\"\n",
    "    Join two paths and normalize the result.\n",
    "\n",
    "    Args:\n",
    "        base_directory (str): The base directory path.\n",
    "        relative_path (str): The relative path to be joined.\n",
    "\n",
    "    Example:\n",
    "        >>> result = join_paths('/user/documents', 'files/myfile.txt')\n",
    "\n",
    "    Returns:\n",
    "        The normalized and joined path.\n",
    "\n",
    "    Notes:\n",
    "        More about naming standards for path components here: https://stackoverflow.com/a/2235762\n",
    "    \"\"\"\n",
    "    return os.path.normpath(os.path.join(base_directory, relative_path))\n",
    "\n",
    "def change_sep(path:str, new_sep:str, old_sep:str=os.path.sep) -> str:\n",
    "    \"\"\"\n",
    "    Change the path separator in a given path and normalize the result.\n",
    "\n",
    "    Args:\n",
    "        path (str): The input path.\n",
    "        new_sep (str): The new path separator to use.\n",
    "        old_sep (str, optional): The old path separator to replace (default is os.path.sep).\n",
    "\n",
    "    Example:\n",
    "        >>> result = change_sep('path/to/change', '/', '\\\\')\n",
    "\n",
    "    Returns:\n",
    "        The path with the new separator, normalized.\n",
    "\n",
    "    Notes:\n",
    "        Source 1: https://stackoverflow.com/questions/18707338/print-raw-string-from-variable-not-getting-the-answers#:~:text=To%20turn%20a%20variable%20to%20raw%20str%2C%20just%20use\n",
    "        Source 2: https://mail.python.org/pipermail/tutor/2011-July/084788.html\n",
    "    \"\"\"\n",
    "    return os.path.normpath(rf\"{path}\").replace(old_sep, new_sep)\n"
   ]
  },
  {
   "cell_type": "code",
   "execution_count": 119,
   "metadata": {},
   "outputs": [],
   "source": [
    "def save_df(df:pd.DataFrame, file_name_without_ext:str, to_excel:bool=True, to_csv:bool=True) -> None:\n",
    "    \"\"\"\n",
    "    Save a dataframe to excel and csv files.\n",
    "    \"\"\"\n",
    "    excel_path = join_paths(BASE_OUTPUT_URL, EXCEL_DIR, file_name_without_ext + '.xlsx')\n",
    "    csv_path = join_paths(BASE_OUTPUT_URL, CSV_DIR, file_name_without_ext + '.csv')\n",
    "    \n",
    "    # check if the paths exist, and if not, create them\n",
    "    if not os.path.exists(os.path.dirname(excel_path)):\n",
    "        os.makedirs(os.path.dirname(excel_path))\n",
    "    if not os.path.exists(os.path.dirname(csv_path)):\n",
    "        os.makedirs(os.path.dirname(csv_path))\n",
    "\n",
    "    if to_excel:\n",
    "        df.to_excel(os.path.join(BASE_OUTPUT_URL, EXCEL_DIR, file_name_without_ext + '.xlsx'), index=False)\n",
    "    if to_csv:\n",
    "        df.to_csv(os.path.join(BASE_OUTPUT_URL, CSV_DIR, file_name_without_ext + '.csv'), index=False)"
   ]
  },
  {
   "cell_type": "code",
   "execution_count": 120,
   "metadata": {},
   "outputs": [],
   "source": [
    "def recurse_convert_to_dict(json_dict:dict):\n",
    "    \n",
    "    if isinstance(json_dict, list):\n",
    "        return [recurse_convert_to_dict(item) for item in json_dict]\n",
    "    if not isinstance(json_dict, dict):\n",
    "        return json_dict\n",
    "    \n",
    "    for k, v in json_dict.items():\n",
    "        if isinstance(v, str):  # if the value is a string\n",
    "            try:\n",
    "                json_dict[k] = json.loads(v)  # try to convert it into a dict\n",
    "                json_dict[k] = recurse_convert_to_dict(json_dict[k])  # and convert its strings as well\n",
    "            except json.JSONDecodeError:  # if it's not a JSON string\n",
    "                pass  # leave it as is\n",
    "        elif isinstance(v, dict):  # if the value is a dict\n",
    "            json_dict[k] = recurse_convert_to_dict(v)  # convert its strings\n",
    "    return json_dict\n",
    "\n",
    "def data_to_json(data:str):\n",
    "    json_dict = json.loads(data)\n",
    "    json_dict = recurse_convert_to_dict(json_dict)\n",
    "    return json_dict"
   ]
  },
  {
   "cell_type": "code",
   "execution_count": 129,
   "metadata": {},
   "outputs": [],
   "source": [
    "def dict_find_key(nested_dict, target_key):\n",
    "    for key, value in nested_dict.items():\n",
    "        if key == target_key:\n",
    "            return value\n",
    "        if isinstance(value, dict):\n",
    "            result = dict_find_key(value, target_key)\n",
    "            if result is not None:\n",
    "                return result\n",
    "    return None\n",
    "\n",
    "def dict_find_and_replace(nested_dict, target_key, new_value):\n",
    "    for key, value in nested_dict.items():\n",
    "        if key == target_key:\n",
    "            nested_dict[key] = new_value\n",
    "        elif isinstance(value, dict):\n",
    "            nested_dict[key] = dict_find_and_replace(value, target_key, new_value)\n",
    "    return nested_dict\n"
   ]
  },
  {
   "cell_type": "markdown",
   "metadata": {},
   "source": [
    "# Main Functions"
   ]
  },
  {
   "cell_type": "code",
   "execution_count": null,
   "metadata": {},
   "outputs": [],
   "source": []
  },
  {
   "cell_type": "markdown",
   "metadata": {},
   "source": [
    "# Main Code"
   ]
  },
  {
   "cell_type": "code",
   "execution_count": 121,
   "metadata": {},
   "outputs": [
    {
     "name": "stdout",
     "output_type": "stream",
     "text": [
      "Current Country URL: https://www.zomato.com/india\n",
      "['Agra', 'Ahmedabad', 'Ajmer', 'Alappuzha', 'Allahabad', 'Amravati', 'Amritsar', 'Aurangabad', 'Bengaluru', 'Bhopal', 'Bhubaneswar', 'Chandigarh', 'Chennai', 'Coimbatore', 'Cuttack', 'Darjeeling', 'Dehradun', 'Delhi NCR', 'Dharamshala', 'Gangtok', 'Goa', 'Gorakhpur', 'Guntur', 'Guwahati', 'Gwalior', 'Haridwar', 'Hyderabad', 'Indore', 'Jabalpur', 'Jaipur', 'Jalandhar', 'Jammu', 'Jamnagar', 'Jamshedpur', 'Jhansi', 'Jodhpur', 'Junagadh', 'Kanpur', 'Khajuraho', 'Khamgaon', 'Kharagpur', 'Kochi', 'Kolhapur', 'Kolkata', 'Kota', 'Lucknow', 'Ludhiana', 'Madurai', 'Manali', 'Mangalore', 'Manipal', 'Meerut', 'Mumbai', 'Mussoorie', 'Mysore', 'Nagpur', 'Nainital', 'Nashik', 'Neemrana', 'Ooty', 'Palakkad', 'Patiala', 'Patna', 'Puducherry', 'Pune', 'Pushkar', 'Raipur', 'Rajkot', 'Ranchi', 'Rishikesh', 'Salem', 'Shimla', 'Siliguri', 'Srinagar', 'Surat', 'Thrissur', 'Tirupati', 'Trichy', 'Trivandrum', 'Udaipur', 'Vadodara', 'Varanasi', 'Vellore', 'Vijayawada', 'Visakhapatnam']\n",
      "Current City URL: https://www.zomato.com/Agra\n"
     ]
    }
   ],
   "source": [
    "for country in COUNTRIES:\n",
    "    # create the country url\n",
    "    country_url = posixpath.join(BASE_URL, country)\n",
    "    print(f\"Current Country URL: {country_url}\")\n",
    "\n",
    "    # use beautifulsoup to parse the html content\n",
    "    country_html = requests.get(country_url, headers={'User-Agent': 'Mozilla/5.0'}).text\n",
    "    country_soup = BeautifulSoup(country_html, 'html.parser')\n",
    "\n",
    "    # get the list of cities\n",
    "    cities = country_soup.select('div.states-container > div > div > div h5')\n",
    "    cities = [city.text.strip().split(' Restaurants')[0] for city in cities]\n",
    "    print(cities)\n",
    "    \n",
    "    # create the city url\n",
    "    for i, city in enumerate(cities):\n",
    "        city_url = posixpath.join(BASE_URL, city)\n",
    "        print(f\"Current City URL: {city_url}\")\n",
    "        break\n",
    "    break\n"
   ]
  },
  {
   "cell_type": "code",
   "execution_count": 122,
   "metadata": {},
   "outputs": [],
   "source": [
    "import requests\n",
    "\n",
    "cookies = {\n",
    "    'PHPSESSID': '4b96bb7a198a94a216ff3c994d05a499',\n",
    "    'fre': '0',\n",
    "    'rd': '1380000',\n",
    "    'zl': 'en',\n",
    "    'fbtrack': '6afeb18328d78ee467b7f1fd3f8f952f',\n",
    "    'uspl': 'true',\n",
    "    'G_ENABLED_IDPS': 'google',\n",
    "    'fbcity': '34',\n",
    "    'ltv': '34',\n",
    "    'lty': '34',\n",
    "    'locus': '%7B%22addressId%22%3A0%2C%22lat%22%3A27.18%2C%22lng%22%3A78.02%2C%22cityId%22%3A34%2C%22ltv%22%3A34%2C%22lty%22%3A%22city%22%2C%22fetchFromGoogle%22%3Afalse%2C%22dszId%22%3A14225%2C%22fen%22%3A%22Agra%22%7D',\n",
    "    'ak_bmsc': '3A3756FA2C3EAADCD1917A910E057D31~000000000000000000000000000000~YAAQlWp7XOyA0JWKAQAAtsWcrBW0d0YVMOzlKBqmlNubDQUUMFhLLHkAxymev9OAublvvSCEtLsGluFkcJl9dkTiHg2fhszMDLq0AwJ/VPa77AluDzD1yQGJVQIqA4ahXn7EHcKna+hq5pp4Jh3kKDMqNk7o4HXBIw9XcvQFd5V+8IOXAoVo0lPIsHN7GD2q3K/W2HlSPDI9cw/mdabPF3PrKm9luRyFLl6X9chmUW124STmwQ0x9tTBVbug0V5tVSzTnKpXlAJVhrPI0FRpimydPvVbE8vlXfbkw8eHITtnKApHgpwZ2uFfvMFNUQ+a347wSQKw742QtEyjLdA8y7AYjTzV4CgXptG//0wCmKFj9+r9rJwcwSRTAg==',\n",
    "    'csrf': 'c7dc25cc63e3cac1235af2110cb2f597',\n",
    "    'AWSALBTG': 'ffYYXrjQyzjhb8ij6ptwK4RPVbofNBnJTHAmvAB6XTE1zQrzwbKo6mRAUOo5G2J7GoqN/nlucvRIAQBTZQ+JnokQA/UicsrZPQGKCpGJMR/QmGEpLsIQ2Yq9nFn1c3FHRA9ziEeANUp2qDPVbJ4pvl/qOjsi0KKR2nmjsJzJ3J2a',\n",
    "    'AWSALBTGCORS': 'ffYYXrjQyzjhb8ij6ptwK4RPVbofNBnJTHAmvAB6XTE1zQrzwbKo6mRAUOo5G2J7GoqN/nlucvRIAQBTZQ+JnokQA/UicsrZPQGKCpGJMR/QmGEpLsIQ2Yq9nFn1c3FHRA9ziEeANUp2qDPVbJ4pvl/qOjsi0KKR2nmjsJzJ3J2a',\n",
    "}\n",
    "\n",
    "headers = {\n",
    "    'authority': 'www.zomato.com',\n",
    "    'accept': '*/*',\n",
    "    'accept-language': 'en-US,en;q=0.9,en-GB;q=0.8',\n",
    "    'content-type': 'application/json',\n",
    "    # 'cookie': 'PHPSESSID=4b96bb7a198a94a216ff3c994d05a499; fre=0; rd=1380000; zl=en; fbtrack=6afeb18328d78ee467b7f1fd3f8f952f; uspl=true; G_ENABLED_IDPS=google; fbcity=34; ltv=34; lty=34; locus=%7B%22addressId%22%3A0%2C%22lat%22%3A27.18%2C%22lng%22%3A78.02%2C%22cityId%22%3A34%2C%22ltv%22%3A34%2C%22lty%22%3A%22city%22%2C%22fetchFromGoogle%22%3Afalse%2C%22dszId%22%3A14225%2C%22fen%22%3A%22Agra%22%7D; ak_bmsc=3A3756FA2C3EAADCD1917A910E057D31~000000000000000000000000000000~YAAQlWp7XOyA0JWKAQAAtsWcrBW0d0YVMOzlKBqmlNubDQUUMFhLLHkAxymev9OAublvvSCEtLsGluFkcJl9dkTiHg2fhszMDLq0AwJ/VPa77AluDzD1yQGJVQIqA4ahXn7EHcKna+hq5pp4Jh3kKDMqNk7o4HXBIw9XcvQFd5V+8IOXAoVo0lPIsHN7GD2q3K/W2HlSPDI9cw/mdabPF3PrKm9luRyFLl6X9chmUW124STmwQ0x9tTBVbug0V5tVSzTnKpXlAJVhrPI0FRpimydPvVbE8vlXfbkw8eHITtnKApHgpwZ2uFfvMFNUQ+a347wSQKw742QtEyjLdA8y7AYjTzV4CgXptG//0wCmKFj9+r9rJwcwSRTAg==; csrf=c7dc25cc63e3cac1235af2110cb2f597; AWSALBTG=ffYYXrjQyzjhb8ij6ptwK4RPVbofNBnJTHAmvAB6XTE1zQrzwbKo6mRAUOo5G2J7GoqN/nlucvRIAQBTZQ+JnokQA/UicsrZPQGKCpGJMR/QmGEpLsIQ2Yq9nFn1c3FHRA9ziEeANUp2qDPVbJ4pvl/qOjsi0KKR2nmjsJzJ3J2a; AWSALBTGCORS=ffYYXrjQyzjhb8ij6ptwK4RPVbofNBnJTHAmvAB6XTE1zQrzwbKo6mRAUOo5G2J7GoqN/nlucvRIAQBTZQ+JnokQA/UicsrZPQGKCpGJMR/QmGEpLsIQ2Yq9nFn1c3FHRA9ziEeANUp2qDPVbJ4pvl/qOjsi0KKR2nmjsJzJ3J2a',\n",
    "    'origin': 'https://www.zomato.com',\n",
    "    'referer': 'https://www.zomato.com/agra',\n",
    "    'sec-ch-ua': '\"Chromium\";v=\"116\", \"Not)A;Brand\";v=\"24\", \"Google Chrome\";v=\"116\"',\n",
    "    'sec-ch-ua-mobile': '?0',\n",
    "    'sec-ch-ua-platform': '\"Windows\"',\n",
    "    'sec-fetch-dest': 'empty',\n",
    "    'sec-fetch-mode': 'cors',\n",
    "    'sec-fetch-site': 'same-origin',\n",
    "    'user-agent': 'Mozilla/5.0 (Windows NT 10.0; Win64; x64) AppleWebKit/537.36 (KHTML, like Gecko) Chrome/116.0.0.0 Safari/537.36',\n",
    "    'x-zomato-csrft': 'c7dc25cc63e3cac1235af2110cb2f597',\n",
    "}\n",
    "\n",
    "json_data = {\n",
    "    'context': 'delivery',\n",
    "    'filters': '{\"searchMetadata\":{\"previousSearchParams\":\"{\\\\\"PreviousSearchId\\\\\":\\\\\"3b79eef9-c768-4d84-b487-2a1fa60aae2f\\\\\",\\\\\"PreviousSearchFilter\\\\\":[\\\\\"{\\\\\\\\\\\\\"category_context\\\\\\\\\\\\\":\\\\\\\\\\\\\"delivery_home\\\\\\\\\\\\\"}\\\\\",\\\\\"\\\\\"]}\",\"postbackParams\":\"{\\\\\"processed_chain_ids\\\\\":[19748876,3400169,19468292,19183764,20470976,19461231,20129295,3400105,19382015],\\\\\"shown_res_count\\\\\":9,\\\\\"search_id\\\\\":\\\\\"3b79eef9-c768-4d84-b487-2a1fa60aae2f\\\\\"}\",\"totalResults\":1455,\"hasMore\":true,\"getInactive\":false},\"dineoutAdsMetaData\":{},\"appliedFilter\":[{\"filterType\":\"category_sheet\",\"filterValue\":\"delivery_home\",\"isHidden\":true,\"isApplied\":true,\"postKey\":\"{\\\\\"category_context\\\\\":\\\\\"delivery_home\\\\\"}\"}],\"urlParamsForAds\":{}}',\n",
    "    'addressId': 0,\n",
    "    'entityId': 34,\n",
    "    'entityType': 'city',\n",
    "    'locationType': '',\n",
    "    'isOrderLocation': 1,\n",
    "    'cityId': 34,\n",
    "    'latitude': '27.1800000000000000',\n",
    "    'longitude': '78.0200000000000000',\n",
    "    'userDefinedLatitude': 27.18,\n",
    "    'userDefinedLongitude': 78.02,\n",
    "    'entityName': 'Agra',\n",
    "    'orderLocationName': 'Agra',\n",
    "    'cityName': 'Agra',\n",
    "    'countryId': 1,\n",
    "    'countryName': 'India',\n",
    "    'displayTitle': 'Agra',\n",
    "    'o2Serviceable': True,\n",
    "    'placeId': '14225',\n",
    "    'cellId': '4140058016516931584',\n",
    "    'deliverySubzoneId': 14225,\n",
    "    'placeType': 'DSZ',\n",
    "    'placeName': 'Agra',\n",
    "    'isO2City': True,\n",
    "    'fetchFromGoogle': False,\n",
    "    'fetchedFromCookie': True,\n",
    "    'isO2OnlyCity': False,\n",
    "    'address_template': [],\n",
    "    'otherRestaurantsUrl': '',\n",
    "}\n",
    "\n",
    "response = requests.post('https://www.zomato.com/webroutes/search/home', cookies=cookies, headers=headers, json=json_data)\n",
    "\n",
    "# Note: json_data will not be serialized by requests\n",
    "# exactly as it was in the original request.\n",
    "#data = '{\"context\":\"delivery\",\"filters\":\"{\\\\\"searchMetadata\\\\\":{\\\\\"previousSearchParams\\\\\":\\\\\"{\\\\\\\\\\\\\"PreviousSearchId\\\\\\\\\\\\\":\\\\\\\\\\\\\"3b79eef9-c768-4d84-b487-2a1fa60aae2f\\\\\\\\\\\\\",\\\\\\\\\\\\\"PreviousSearchFilter\\\\\\\\\\\\\":[\\\\\\\\\\\\\"{\\\\\\\\\\\\\\\\\\\\\\\\\\\\\"category_context\\\\\\\\\\\\\\\\\\\\\\\\\\\\\":\\\\\\\\\\\\\\\\\\\\\\\\\\\\\"delivery_home\\\\\\\\\\\\\\\\\\\\\\\\\\\\\"}\\\\\\\\\\\\\",\\\\\\\\\\\\\"\\\\\\\\\\\\\"]}\\\\\",\\\\\"postbackParams\\\\\":\\\\\"{\\\\\\\\\\\\\"processed_chain_ids\\\\\\\\\\\\\":[19748876,3400169,19468292,19183764,20470976,19461231,20129295,3400105,19382015],\\\\\\\\\\\\\"shown_res_count\\\\\\\\\\\\\":9,\\\\\\\\\\\\\"search_id\\\\\\\\\\\\\":\\\\\\\\\\\\\"3b79eef9-c768-4d84-b487-2a1fa60aae2f\\\\\\\\\\\\\"}\\\\\",\\\\\"totalResults\\\\\":1455,\\\\\"hasMore\\\\\":true,\\\\\"getInactive\\\\\":false},\\\\\"dineoutAdsMetaData\\\\\":{},\\\\\"appliedFilter\\\\\":[{\\\\\"filterType\\\\\":\\\\\"category_sheet\\\\\",\\\\\"filterValue\\\\\":\\\\\"delivery_home\\\\\",\\\\\"isHidden\\\\\":true,\\\\\"isApplied\\\\\":true,\\\\\"postKey\\\\\":\\\\\"{\\\\\\\\\\\\\"category_context\\\\\\\\\\\\\":\\\\\\\\\\\\\"delivery_home\\\\\\\\\\\\\"}\\\\\"}],\\\\\"urlParamsForAds\\\\\":{}}\",\"addressId\":0,\"entityId\":34,\"entityType\":\"city\",\"locationType\":\"\",\"isOrderLocation\":1,\"cityId\":34,\"latitude\":\"27.1800000000000000\",\"longitude\":\"78.0200000000000000\",\"userDefinedLatitude\":27.18,\"userDefinedLongitude\":78.02,\"entityName\":\"Agra\",\"orderLocationName\":\"Agra\",\"cityName\":\"Agra\",\"countryId\":1,\"countryName\":\"India\",\"displayTitle\":\"Agra\",\"o2Serviceable\":true,\"placeId\":\"14225\",\"cellId\":\"4140058016516931584\",\"deliverySubzoneId\":14225,\"placeType\":\"DSZ\",\"placeName\":\"Agra\",\"isO2City\":true,\"fetchFromGoogle\":false,\"fetchedFromCookie\":true,\"isO2OnlyCity\":false,\"address_template\":[],\"otherRestaurantsUrl\":\"\"}'\n",
    "#response = requests.post('https://www.zomato.com/webroutes/search/home', cookies=cookies, headers=headers, data=data)"
   ]
  },
  {
   "cell_type": "code",
   "execution_count": 138,
   "metadata": {},
   "outputs": [
    {
     "data": {
      "text/plain": [
       "200"
      ]
     },
     "execution_count": 138,
     "metadata": {},
     "output_type": "execute_result"
    }
   ],
   "source": [
    "resp = requests.get('https://www.zomato.com/agra', headers={'User-Agent': 'Mozilla/5.0'})\n",
    "resp.status_code"
   ]
  },
  {
   "cell_type": "code",
   "execution_count": 156,
   "metadata": {},
   "outputs": [
    {
     "data": {
      "text/plain": [
       "['18966194',\n",
       " '19857789',\n",
       " '20618516',\n",
       " '3400279',\n",
       " '19468292',\n",
       " '20137345',\n",
       " '20295169',\n",
       " '3400005',\n",
       " '20431659',\n",
       " '0']"
      ]
     },
     "execution_count": 156,
     "metadata": {},
     "output_type": "execute_result"
    }
   ],
   "source": [
    "pattern = r'\\\\\"resId\\\\\":(\\d+)'\n",
    "\n",
    "# Use re.findall to extract text between JSON.parse(...)\n",
    "matches = re.findall(pattern, resp.text)\n",
    "matches"
   ]
  },
  {
   "cell_type": "code",
   "execution_count": 131,
   "metadata": {},
   "outputs": [],
   "source": [
    "new_json_data = dict_find_and_replace(json_data, 'shown_res_count', 100)"
   ]
  },
  {
   "cell_type": "code",
   "execution_count": 132,
   "metadata": {},
   "outputs": [],
   "source": [
    "response = requests.post('https://www.zomato.com/webroutes/search/home', cookies=cookies, headers=headers, json=new_json_data)"
   ]
  },
  {
   "cell_type": "code",
   "execution_count": 136,
   "metadata": {},
   "outputs": [
    {
     "data": {
      "text/plain": [
       "12"
      ]
     },
     "execution_count": 136,
     "metadata": {},
     "output_type": "execute_result"
    }
   ],
   "source": [
    "len(response.json()['sections']['SECTION_SEARCH_RESULT'])"
   ]
  },
  {
   "cell_type": "code",
   "execution_count": 125,
   "metadata": {},
   "outputs": [
    {
     "name": "stdout",
     "output_type": "stream",
     "text": [
      "{'appliedFilter': [{'filterType': 'category_sheet',\n",
      "                    'filterValue': 'delivery_home',\n",
      "                    'isApplied': True,\n",
      "                    'isHidden': True,\n",
      "                    'postKey': '{\"category_context\":\"delivery_home\"}'}],\n",
      " 'dineoutAdsMetaData': {},\n",
      " 'searchMetadata': {'getInactive': False,\n",
      "                    'hasMore': True,\n",
      "                    'postbackParams': {'processed_chain_ids': [19748876,\n",
      "                                                               3400169,\n",
      "                                                               19468292,\n",
      "                                                               19183764,\n",
      "                                                               20470976,\n",
      "                                                               19461231,\n",
      "                                                               20129295,\n",
      "                                                               3400105,\n",
      "                                                               19382015],\n",
      "                                       'search_id': '3b79eef9-c768-4d84-b487-2a1fa60aae2f',\n",
      "                                       'shown_res_count': 9},\n",
      "                    'previousSearchParams': {'PreviousSearchFilter': ['{\"category_context\":\"delivery_home\"}',\n",
      "                                                                      ''],\n",
      "                                             'PreviousSearchId': '3b79eef9-c768-4d84-b487-2a1fa60aae2f'},\n",
      "                    'totalResults': 1455},\n",
      " 'urlParamsForAds': {}}\n"
     ]
    }
   ],
   "source": [
    "pprint(benedict(recurse_convert_to_dict(json_data))['filters'])"
   ]
  },
  {
   "cell_type": "code",
   "execution_count": 58,
   "metadata": {},
   "outputs": [
    {
     "name": "stdout",
     "output_type": "stream",
     "text": [
      "Content-Type\n",
      "\tapplication/json;charset=utf-8\n",
      "Content-Length\n",
      "\t4477\n",
      "Server\n",
      "\tenvoy\n",
      "x-xss-protection\n",
      "\t1; mode=block; report=https://www.zomato.com/cspreport.php\n",
      "Content-Security-Policy\n",
      "\tframe-ancestors 'self' https://microapps.google.com/ https://pwa.zomato.com; default-src *; font-src * data:; child-src 'self' * blob:; img-src * 'self' data: blob: ; media-src * blob:; script-src 'self' 'unsafe-inline' 'unsafe-eval' browser.sentry-cdn.com *.jwpcdn.com *.licdn.com *.cloudflare.com *.twitter.com *.recruiterbox.com *.zdev.net *.zdev.net:8080 *.zomato.com *.tinymce.com *.gstatic.com *.googleapis.com *.google.com *.google.co.in *.facebook.com sdk.accountkit.com *.doubleclick.net *.googletagservices.com *.googlesyndication.com *.nr-data.net *.newrelic.com *.google-analytics.com *.zmtcdn.com *.googletagmanager.com *.facebook.net *.googleadservices.com *.cdninstagram.com *.googlesyndication.com *.spreedly.com *.instagram.com *.twimg.com d1m0gkspj3l6or.cloudfront.net d3mvnvhjmkxpjz.cloudfront.net d36mpcpuzc4ztk.cloudfront.net d2weczhvl823v0.cloudfront.net d2z9qv80fklwtv.cloudfront.net d32l4mqe5xk032.cloudfront.net *.serving-sys.com *.pubnub.com *.branch.io app.link cdn.poll-maker.com *.ampproject.org rec.smartlook.com static.hotjar.com script.hotjar.com zba.se *.googletagmanager.com eff.org cdn.plot.ly 3717.tm.zedo.com *.bing.com static.criteo.net sslwidget.criteo.com gum.criteo.com mddigital.in static.zdassets.com zomato.zendesk.com cdn.taboola.com trc.taboola.com ds-aksb-a.akamaihd.net service.force.com zomato.my.salesforce.com zomato.secure.force.com d.la1-c1-hnd.salesforceliveagent.com; style-src * 'unsafe-inline'; worker-src 'self' https: blob:;\n",
      "x-content-type-options\n",
      "\tnosniff\n",
      "Access-Control-Allow-Origin\n",
      "\thttps://www.zomato.com\n",
      "Access-Control-Allow-Credentials\n",
      "\ttrue\n",
      "Content-Encoding\n",
      "\tgzip\n",
      "x-envoy-upstream-service-time\n",
      "\t436\n",
      "Expires\n",
      "\tTue, 19 Sep 2023 10:41:59 GMT\n",
      "Cache-Control\n",
      "\tmax-age=0, no-cache, no-store\n",
      "Pragma\n",
      "\tno-cache\n",
      "Date\n",
      "\tTue, 19 Sep 2023 10:41:59 GMT\n",
      "Connection\n",
      "\tkeep-alive\n",
      "Set-Cookie\n",
      "\tAWSALBTG=eB7O8xXWXkM6uMXd/LuM4tbdvox12HaoFWyEicvAboTOkY7Xz3T5Y43ujfqsxsWarhX9UWadm+qCnvmnePzXsR4g/ikqC4vQe9bAkX6eFK8I7J2LFlKBOuXIxP0FeaRhEVn/rZU20uiVnnVN/t6SQ51fx9qS+kBvq6I+4hL5JNCr; Expires=Tue, 26 Sep 2023 10:41:59 GMT; Path=/, AWSALBTGCORS=eB7O8xXWXkM6uMXd/LuM4tbdvox12HaoFWyEicvAboTOkY7Xz3T5Y43ujfqsxsWarhX9UWadm+qCnvmnePzXsR4g/ikqC4vQe9bAkX6eFK8I7J2LFlKBOuXIxP0FeaRhEVn/rZU20uiVnnVN/t6SQ51fx9qS+kBvq6I+4hL5JNCr; Expires=Tue, 26 Sep 2023 10:41:59 GMT; Path=/; SameSite=None; Secure, hy-en=deleted; expires=Thu, 01-Jan-1970 00:00:01 GMT; Max-Age=0; path=/; domain=zomato.com, fre=0; expires=Sun, 06-Jun-2077 21:24:08 GMT; Max-Age=1695120129; path=/; domain=zomato.com, ttaz=0; expires=Tue, 19-Sep-2023 10:41:58 GMT; Max-Age=0; path=/; domain=zomato.com, rd=1380000; expires=Sun, 06-Jun-2077 21:24:08 GMT; Max-Age=1695120129; path=/; domain=zomato.com, lme=deleted; expires=Thu, 01-Jan-1970 00:00:01 GMT; Max-Age=0; path=/; domain=.zomato.com\n",
      "Alt-Svc\n",
      "\th3=\":443\"; ma=93600\n",
      "Vary\n",
      "\tAccept-Encoding, User-Agent\n",
      "Strict-Transport-Security\n",
      "\tmax-age=31536000\n"
     ]
    }
   ],
   "source": [
    "for key, val in response.headers.items():\n",
    "    print(key)\n",
    "    print(f'\\t{val}')"
   ]
  },
  {
   "cell_type": "code",
   "execution_count": 51,
   "metadata": {},
   "outputs": [
    {
     "data": {
      "text/plain": [
       "{'resId': 3401744, 'name': 'The Salt Cafe Kitchen & Bar', 'image': {'url': 'https://b.zmtcdn.com/data/pictures/4/3401744/a5fe55d075d83d4c4d9915f2776d940e_featured_v2.jpg', 'urlWithParams': 'https://b.zmtcdn.com/data/pictures/4/3401744/a5fe55d075d83d4c4d9915f2776d940e_featured_v2.jpg?fit=around%7C108%3A108&crop=108%3A108%3B%2A%2C%2A'}, 'o2FeaturedImage': {'url': 'https://b.zmtcdn.com/data/pictures/4/3401744/3ddba5d2589a76c62fdcd9d8c8eaefc4_o2_featured_v2.jpg'}, 'rating': {'has_fake_reviews': 0, 'aggregate_rating': '4.6', 'rating_text': '4.6', 'rating_subtitle': 'Excellent', 'rating_color': '3F7E00', 'votes': '7,328', 'subtext': 'REVIEWS', 'is_new': False}, 'ratingNew': {'newlyOpenedObj': None, 'suspiciousReviewObj': None, 'ratings': {'DINING': {'rating_type': 'DINING', 'rating': '4.9', 'reviewCount': '5,296', 'reviewTextSmall': '5,296 Reviews', 'subtext': '5,296 Dining Reviews', 'color': '#1C1C1C', 'ratingV2': '4.9', 'subtitle': 'DINING', 'sideSubTitle': 'Dining Reviews', 'bgColorV2': {'type': 'green', 'tint': '800'}}, 'DELIVERY': {'rating_type': 'DELIVERY', 'rating': '4.2', 'reviewCount': '2,032', 'reviewTextSmall': '2,032 Reviews', 'subtext': '2,032 Delivery Reviews', 'color': '#E23744', 'ratingV2': '4.2', 'subtitle': 'DELIVERY', 'sideSubTitle': 'Delivery Reviews', 'bgColorV2': {'type': 'green', 'tint': '700'}, 'newOnDelivery': False}}}, 'cft': {'text': '₹1,800 for two'}, 'cfo': {'text': '₹550 for one'}, 'locality': {'name': 'Tajganj, Agra', 'address': '1C,3rd Floor, Fatehabad Road, Tajganj, Agra', 'localityUrl': 'agra/tajganj-restaurants'}, 'timing': {'text': '', 'color': ''}, 'cuisine': [{'deeplink': 'zomato://search?deeplink_filters=WyJ7XCJjb250ZXh0XCI6XCJhbGxcIn0iLCJ7XCJjdWlzaW5lX2lkXCI6W1wiNTBcIl19Il0%3D', 'url': 'https://www.zomato.com/agra/restaurants/north-indian/', 'name': 'North Indian'}, {'deeplink': 'zomato://search?deeplink_filters=WyJ7XCJjb250ZXh0XCI6XCJhbGxcIn0iLCJ7XCJjdWlzaW5lX2lkXCI6W1wiMzVcIl19Il0%3D', 'url': 'https://www.zomato.com/agra/restaurants/continental/', 'name': 'Continental'}, {'deeplink': 'zomato://search?deeplink_filters=WyJ7XCJjb250ZXh0XCI6XCJhbGxcIn0iLCJ7XCJjdWlzaW5lX2lkXCI6W1wiMjVcIl19Il0%3D', 'url': 'https://www.zomato.com/agra/restaurants/chinese/', 'name': 'Chinese'}, {'deeplink': 'zomato://search?deeplink_filters=WyJ7XCJjb250ZXh0XCI6XCJhbGxcIn0iLCJ7XCJjdWlzaW5lX2lkXCI6W1wiNTVcIl19Il0%3D', 'url': 'https://www.zomato.com/agra/restaurants/italian/', 'name': 'Italian'}, {'deeplink': 'zomato://search?deeplink_filters=WyJ7XCJjb250ZXh0XCI6XCJhbGxcIn0iLCJ7XCJjdWlzaW5lX2lkXCI6W1wiMjcxXCJdfSJd', 'url': 'https://www.zomato.com/agra/restaurants/finger-food/', 'name': 'Finger Food'}], 'should_ban_ugc': False, 'costText': {'text': '₹1,800 for two'}}"
      ]
     },
     "execution_count": 51,
     "metadata": {},
     "output_type": "execute_result"
    }
   ],
   "source": [
    "benedict(json.loads(response.text))['sections.SECTION_SEARCH_RESULT[0].info']"
   ]
  },
  {
   "cell_type": "code",
   "execution_count": 28,
   "metadata": {},
   "outputs": [
    {
     "data": {
      "text/plain": [
       "'Visakhapatnam Restaurantschevron-right'"
      ]
     },
     "execution_count": 28,
     "metadata": {},
     "output_type": "execute_result"
    }
   ],
   "source": [
    "city_html = requests.post('https://www.zomato.com/agra', ).text\n"
   ]
  },
  {
   "cell_type": "markdown",
   "metadata": {},
   "source": [
    "# Visualizing Functions' Return Values"
   ]
  },
  {
   "cell_type": "code",
   "execution_count": null,
   "metadata": {},
   "outputs": [],
   "source": []
  }
 ],
 "metadata": {
  "kernelspec": {
   "display_name": "Python 3",
   "language": "python",
   "name": "python3"
  },
  "language_info": {
   "codemirror_mode": {
    "name": "ipython",
    "version": 3
   },
   "file_extension": ".py",
   "mimetype": "text/x-python",
   "name": "python",
   "nbconvert_exporter": "python",
   "pygments_lexer": "ipython3",
   "version": "3.9.18"
  },
  "orig_nbformat": 4
 },
 "nbformat": 4,
 "nbformat_minor": 2
}
